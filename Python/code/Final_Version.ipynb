{
 "cells": [
  {
   "cell_type": "markdown",
   "metadata": {},
   "source": [
    "# FINAL VERSION"
   ]
  },
  {
   "cell_type": "markdown",
   "metadata": {},
   "source": [
    "### Imports from Libraries"
   ]
  },
  {
   "cell_type": "code",
   "execution_count": null,
   "metadata": {},
   "outputs": [],
   "source": [
    "# Global\n",
    "import os \n",
    "import numpy as np\n",
    "import pandas as pd\n",
    "from math import sqrt"
   ]
  },
  {
   "cell_type": "code",
   "execution_count": null,
   "metadata": {},
   "outputs": [],
   "source": [
    "# Cluster Algorithm\n",
    "from sklearn.cluster import KMeans\n",
    "from sklearn.cluster import SpectralClustering\n",
    "from sklearn.cluster import AgglomerativeClustering\n",
    "from sklearn.mixture import GaussianMixture\n",
    "import plotly.express as px\n",
    "import seaborn as sns\n",
    "import matplotlib.pyplot as plt"
   ]
  },
  {
   "cell_type": "code",
   "execution_count": null,
   "metadata": {},
   "outputs": [],
   "source": [
    "# Mesure Performance\n",
    "from sklearn.metrics import adjusted_rand_score as ari\n",
    "from sklearn.metrics import normalized_mutual_info_score as nmi"
   ]
  },
  {
   "cell_type": "code",
   "execution_count": null,
   "metadata": {},
   "outputs": [],
   "source": [
    "# Improve Display\n",
    "from tqdm.notebook import tqdm\n",
    "import warnings\n",
    "warnings.filterwarnings('ignore') "
   ]
  },
  {
   "cell_type": "markdown",
   "metadata": {},
   "source": [
    "### Loading the dataset"
   ]
  },
  {
   "cell_type": "code",
   "execution_count": null,
   "metadata": {},
   "outputs": [],
   "source": [
    "dataset = pd.read_csv('../datasets/Aggregation.txt', sep='\\t', header=None)\n",
    "dataset.columns=['A', 'B', 'target']"
   ]
  },
  {
   "cell_type": "code",
   "execution_count": null,
   "metadata": {},
   "outputs": [],
   "source": [
    "# Separate features and target\n",
    "X = dataset.loc[:, ['A', 'B']]"
   ]
  },
  {
   "cell_type": "markdown",
   "metadata": {},
   "source": [
    "### Principal Component Analysis"
   ]
  },
  {
   "cell_type": "code",
   "execution_count": null,
   "metadata": {},
   "outputs": [],
   "source": [
    "from sklearn.decomposition import PCA"
   ]
  },
  {
   "cell_type": "code",
   "execution_count": null,
   "metadata": {},
   "outputs": [],
   "source": [
    "pca = PCA(n_components=2)\n",
    "principalComponents = pca.fit_transform(X)"
   ]
  },
  {
   "cell_type": "code",
   "execution_count": null,
   "metadata": {},
   "outputs": [],
   "source": [
    "X = pd.DataFrame(data=principalComponents, columns=['A', 'B'])"
   ]
  },
  {
   "cell_type": "code",
   "execution_count": null,
   "metadata": {},
   "outputs": [],
   "source": [
    "dataset = pd.concat([X, dataset[['target']]], axis=1)"
   ]
  },
  {
   "cell_type": "markdown",
   "metadata": {},
   "source": [
    "### Simple Clustering Method"
   ]
  },
  {
   "cell_type": "code",
   "execution_count": null,
   "metadata": {},
   "outputs": [],
   "source": [
    "# Number of Cluster\n",
    "k = 7"
   ]
  },
  {
   "cell_type": "code",
   "execution_count": null,
   "metadata": {},
   "outputs": [],
   "source": [
    "#K-Means\n",
    "model = KMeans(n_clusters=k, init=\"random\", max_iter=100, random_state=None, n_init=1).fit(X).labels_\n",
    "fig = px.scatter(dataset, x='A', y='B', color=model, title='K-Means' + ' - ARI: ' +  str(round(ari(dataset.target, model),2)) + ' - NMI: ' + str(round(nmi(dataset.target, model),2)))\n",
    "fig.show()"
   ]
  },
  {
   "cell_type": "code",
   "execution_count": null,
   "metadata": {},
   "outputs": [],
   "source": [
    "#K-Means++\n",
    "model = KMeans(n_clusters=k, init=\"k-means++\", max_iter=100, random_state=None, n_init=1).fit(X).labels_\n",
    "fig = px.scatter(dataset, x='A', y='B', color=model, title='K-Means++'  + ' - ARI: ' +  str(round(ari(dataset.target, model),2)) + ' - NMI: ' + str(round(nmi(dataset.target, model),2))) \n",
    "fig.show()"
   ]
  },
  {
   "cell_type": "code",
   "execution_count": null,
   "metadata": {},
   "outputs": [],
   "source": [
    "#CAH - Ward Linkage\n",
    "model = AgglomerativeClustering(n_clusters=k, linkage='ward').fit(X).labels_\n",
    "fig = px.scatter(dataset, x='A', y='B', color=model, title='CAH - Ward'  + ' - ARI: ' +  str(round(ari(dataset.target, model),2)) + ' - NMI: ' + str(round(nmi(dataset.target, model),2))) \n",
    "fig.show()"
   ]
  },
  {
   "cell_type": "code",
   "execution_count": null,
   "metadata": {},
   "outputs": [],
   "source": [
    "#CAH - Complete Linkage\n",
    "model = AgglomerativeClustering(n_clusters=k, linkage='complete').fit(X).labels_\n",
    "fig = px.scatter(dataset, x='A', y='B', color=model, title='CAH - Complete' + ' - ARI: ' +  str(round(ari(dataset.target, model),2)) + ' - NMI: ' + str(round(nmi(dataset.target, model),2))) \n",
    "fig.show()"
   ]
  },
  {
   "cell_type": "code",
   "execution_count": null,
   "metadata": {},
   "outputs": [],
   "source": [
    "#CAH - Average Linkage\n",
    "model = AgglomerativeClustering(n_clusters=k, linkage='average').fit(X).labels_\n",
    "fig = px.scatter(dataset, x='A', y='B', color=model, title='CAH - Average' + ' - ARI: ' +  str(round(ari(dataset.target, model),2)) + ' - NMI: ' + str(round(nmi(dataset.target, model),2))) \n",
    "fig.show()"
   ]
  },
  {
   "cell_type": "code",
   "execution_count": null,
   "metadata": {},
   "outputs": [],
   "source": [
    "#CAH - Single Linkage\n",
    "model = AgglomerativeClustering(n_clusters=k, linkage='single').fit(X).labels_\n",
    "fig = px.scatter(dataset, x='A', y='B', color=model, title='CAH - Single' + ' - ARI: ' +  str(round(ari(dataset.target, model),2)) + ' - NMI: ' + str(round(nmi(dataset.target, model),2))) \n",
    "fig.show()"
   ]
  },
  {
   "cell_type": "code",
   "execution_count": null,
   "metadata": {},
   "outputs": [],
   "source": [
    "#GMM - Full\n",
    "model = GaussianMixture(n_components=k, covariance_type='full').fit(X).predict(X)\n",
    "fig = px.scatter(dataset, x='A', y='B', color=model, title='GMM - Full' + ' - ARI: ' +  str(round(ari(dataset.target, model),2)) + ' - NMI: ' + str(round(nmi(dataset.target, model),2))) \n",
    "fig.show()"
   ]
  },
  {
   "cell_type": "code",
   "execution_count": null,
   "metadata": {},
   "outputs": [],
   "source": [
    "#GMM - Tied\n",
    "model = GaussianMixture(n_components=k, covariance_type='tied').fit(X).predict(X)\n",
    "fig = px.scatter(dataset, x='A', y='B', color=model, title='GMM - Tied' + ' - ARI: ' +  str(round(ari(dataset.target, model),2)) + ' - NMI: ' + str(round(nmi(dataset.target, model),2))) \n",
    "fig.show()"
   ]
  },
  {
   "cell_type": "code",
   "execution_count": null,
   "metadata": {},
   "outputs": [],
   "source": [
    "#GMM - Diag\n",
    "model = GaussianMixture(n_components=k, covariance_type='diag').fit(X).predict(X)\n",
    "fig = px.scatter(dataset, x='A', y='B', color=model, title='GMM - Diag' + ' - ARI: ' +  str(round(ari(dataset.target, model),2)) + ' - NMI: ' + str(round(nmi(dataset.target, model),2))) \n",
    "fig.show()"
   ]
  },
  {
   "cell_type": "code",
   "execution_count": null,
   "metadata": {},
   "outputs": [],
   "source": [
    "#GMM - Spherical\n",
    "model = GaussianMixture(n_components=k, covariance_type='spherical').fit(X).predict(X)\n",
    "fig = px.scatter(dataset, x='A', y='B', color=model, title='GMM - Spherical' + ' - ARI: ' +  str(round(ari(dataset.target, model),2)) + ' - NMI: ' + str(round(nmi(dataset.target, model),2))) \n",
    "fig.show()"
   ]
  },
  {
   "cell_type": "markdown",
   "metadata": {},
   "source": [
    "### Performance Simple Clustering Method"
   ]
  },
  {
   "cell_type": "code",
   "execution_count": null,
   "metadata": {},
   "outputs": [],
   "source": [
    "#KMeans\n",
    "ariTab = []\n",
    "nmiTab = []\n",
    "for i in tqdm(range(100)):\n",
    "    model = KMeans(n_clusters=k, init=\"random\", max_iter=100, random_state=None, n_init=1).fit(X).labels_\n",
    "    ariTab.append(round(ari(dataset.target, model),2))\n",
    "    nmiTab.append(round(nmi(dataset.target, model),2))\n",
    "print('K-Means')\n",
    "print('ARI: ', np.mean(ariTab).round(2))\n",
    "print('NMI: ', np.mean(nmiTab).round(2))"
   ]
  },
  {
   "cell_type": "code",
   "execution_count": null,
   "metadata": {},
   "outputs": [],
   "source": [
    "#KMeans++\n",
    "ariTab = []\n",
    "nmiTab = []\n",
    "for i in tqdm(range(100)):\n",
    "    model = KMeans(n_clusters=k, init=\"k-means++\", max_iter=100, random_state=None, n_init=1).fit(X).labels_\n",
    "    ariTab.append(round(ari(dataset.target, model),2))\n",
    "    nmiTab.append(round(nmi(dataset.target, model),2))\n",
    "print('K-Means++')\n",
    "print('ARI: ', np.mean(ariTab).round(2))\n",
    "print('NMI: ', np.mean(nmiTab).round(2))"
   ]
  },
  {
   "cell_type": "code",
   "execution_count": null,
   "metadata": {},
   "outputs": [],
   "source": [
    "#CAH - Ward Linkage\n",
    "ariTab = []\n",
    "nmiTab = []\n",
    "for i in tqdm(range(100)):\n",
    "    model = AgglomerativeClustering(n_clusters=k, linkage='ward').fit(X).labels_    \n",
    "    ariTab.append(round(ari(dataset.target, model),2))\n",
    "    nmiTab.append(round(nmi(dataset.target, model),2))\n",
    "print('CAH - Ward Linkage')\n",
    "print('ARI: ', np.mean(ariTab).round(2))\n",
    "print('NMI: ', np.mean(nmiTab).round(2))"
   ]
  },
  {
   "cell_type": "code",
   "execution_count": null,
   "metadata": {},
   "outputs": [],
   "source": [
    "#CAH - Complete Linkage\n",
    "ariTab = []\n",
    "nmiTab = []\n",
    "for i in tqdm(range(100)):\n",
    "    model = AgglomerativeClustering(n_clusters=k, linkage='complete').fit(X).labels_    \n",
    "    ariTab.append(round(ari(dataset.target, model),2))\n",
    "    nmiTab.append(round(nmi(dataset.target, model),2))\n",
    "print('CAH - Complete Linkage')\n",
    "print('ARI: ', np.mean(ariTab).round(2))\n",
    "print('NMI: ', np.mean(nmiTab).round(2))"
   ]
  },
  {
   "cell_type": "code",
   "execution_count": null,
   "metadata": {},
   "outputs": [],
   "source": [
    "#CAH - Average Linkage\n",
    "ariTab = []\n",
    "nmiTab = []\n",
    "for i in tqdm(range(100)):\n",
    "    model = AgglomerativeClustering(n_clusters=k, linkage='average').fit(X).labels_    \n",
    "    ariTab.append(round(ari(dataset.target, model),2))\n",
    "    nmiTab.append(round(nmi(dataset.target, model),2))\n",
    "print('CAH - Average Linkage')\n",
    "print('ARI: ', np.mean(ariTab).round(2))\n",
    "print('NMI: ', np.mean(nmiTab).round(2))"
   ]
  },
  {
   "cell_type": "code",
   "execution_count": null,
   "metadata": {},
   "outputs": [],
   "source": [
    "#CAH - Single Linkage\n",
    "ariTab = []\n",
    "nmiTab = []\n",
    "for i in tqdm(range(100)):\n",
    "    model = AgglomerativeClustering(n_clusters=k, linkage='single').fit(X).labels_    \n",
    "    ariTab.append(round(ari(dataset.target, model),2))\n",
    "    nmiTab.append(round(nmi(dataset.target, model),2))\n",
    "\n",
    "print('CAH - Single Linkage')\n",
    "print('ARI: ', np.mean(ariTab).round(2))\n",
    "print('NMI: ', np.mean(nmiTab).round(2))"
   ]
  },
  {
   "cell_type": "code",
   "execution_count": null,
   "metadata": {},
   "outputs": [],
   "source": [
    "#GMM - Full\n",
    "ariTab = []\n",
    "nmiTab = []\n",
    "for i in tqdm(range(100)):\n",
    "    model = GaussianMixture(n_components=k, covariance_type='full').fit(X).predict(X)\n",
    "    ariTab.append(round(ari(dataset.target, model),2))\n",
    "    nmiTab.append(round(nmi(dataset.target, model),2))\n",
    "print('GMM - Full')\n",
    "print('ARI: ', np.mean(ariTab).round(2))\n",
    "print('NMI: ', np.mean(nmiTab).round(2))"
   ]
  },
  {
   "cell_type": "code",
   "execution_count": null,
   "metadata": {},
   "outputs": [],
   "source": [
    "#GMM - Tied\n",
    "ariTab = []\n",
    "nmiTab = []\n",
    "for i in tqdm(range(100)):\n",
    "    model = GaussianMixture(n_components=k, covariance_type='tied').fit(X).predict(X)\n",
    "    ariTab.append(round(ari(dataset.target, model),2))\n",
    "    nmiTab.append(round(nmi(dataset.target, model),2))\n",
    "print('GMM - Tied')\n",
    "print('ARI: ', np.mean(ariTab).round(2))\n",
    "print('NMI: ', np.mean(nmiTab).round(2))"
   ]
  },
  {
   "cell_type": "code",
   "execution_count": null,
   "metadata": {},
   "outputs": [],
   "source": [
    "#GMM - Diag\n",
    "ariTab = []\n",
    "nmiTab = []\n",
    "for i in tqdm(range(100)):\n",
    "    model = GaussianMixture(n_components=k, covariance_type='diag').fit(X).predict(X)\n",
    "    ariTab.append(round(ari(dataset.target, model),2))\n",
    "    nmiTab.append(round(nmi(dataset.target, model),2))\n",
    "print('GMM - Diag')\n",
    "print('ARI: ', np.mean(ariTab).round(2))\n",
    "print('NMI: ', np.mean(nmiTab).round(2))"
   ]
  },
  {
   "cell_type": "code",
   "execution_count": null,
   "metadata": {},
   "outputs": [],
   "source": [
    "#GMM - Spherical\n",
    "ariTab = []\n",
    "nmiTab = []\n",
    "for i in tqdm(range(100)):\n",
    "    model = GaussianMixture(n_components=k, covariance_type='spherical').fit(X).predict(X)\n",
    "    ariTab.append(round(ari(dataset.target, model),2))\n",
    "    nmiTab.append(round(nmi(dataset.target, model),2))\n",
    "print('GMM - Spherical')\n",
    "print('ARI: ', np.mean(ariTab).round(2))\n",
    "print('NMI: ', np.mean(nmiTab).round(2))"
   ]
  },
  {
   "cell_type": "markdown",
   "metadata": {},
   "source": [
    "### Ensemble Member Generation"
   ]
  },
  {
   "cell_type": "code",
   "execution_count": null,
   "metadata": {},
   "outputs": [],
   "source": [
    "member_generation = []    \n",
    "algorithms = {'kmeans':0, 'kmeans++':0, 'cah_ward':0, 'cah_complete':0, 'cah_average':0, 'cah_single':0, 'gmm_full':0, 'gmm_tied':0, 'gmm_diag':0, 'gmm_spherical': 0}    "
   ]
  },
  {
   "cell_type": "code",
   "execution_count": null,
   "metadata": {},
   "outputs": [],
   "source": [
    "def reset():\n",
    "    global member_generation   \n",
    "    global algorithms \n",
    "\n",
    "    member_generation = []\n",
    "    algorithms = {'kmeans':0, 'kmeans++':0, 'cah_ward':0, 'cah_complete':0, 'cah_average':0, 'cah_single':0, 'gmm_full':0, 'gmm_tied':0, 'gmm_diag':0, 'gmm_spherical': 0}        "
   ]
  },
  {
   "cell_type": "code",
   "execution_count": null,
   "metadata": {},
   "outputs": [],
   "source": [
    "def member_generation_function(X, algorithm='kmeans', nb_partition=5, mix=True):\n",
    "    '''\n",
    "    Generating nb_parititions clustering model \n",
    "    X : dataset\n",
    "    nb_partition : number of partition\n",
    "    mix : Does the result will be merge with an other clustering model in order to use Ensemble Clustering with several algorithm\n",
    "    '''\n",
    "    h, _ = X.shape\n",
    "    partition = []\n",
    "    global member_generation\n",
    "    global algorithms\n",
    "    for i in range(nb_partition):\n",
    "        k = np.random.randint(2, sqrt(h))\n",
    "        if algorithm == 'kmeans':\n",
    "            if mix:\n",
    "                algorithms['kmeans'] += 1       \n",
    "            model = KMeans(n_clusters=k, init=\"random\", max_iter=100, random_state=None, n_init=1).fit(X).labels_\n",
    "        elif algorithm == 'kmeans++':\n",
    "            if mix:\n",
    "                algorithms['kmeans++'] += 1   \n",
    "            model = KMeans(n_clusters=k, init=\"k-means++\", max_iter=100, random_state=None, n_init=1).fit(X).labels_\n",
    "        elif algorithm == 'cah_ward':\n",
    "            if mix:\n",
    "                algorithms['cah_ward'] += 1            \n",
    "            model = AgglomerativeClustering(n_clusters=k, linkage='ward').fit(X).labels_\n",
    "        elif algorithm == 'cah_complete':\n",
    "            if mix:\n",
    "                algorithms['cah_complete'] += 1\n",
    "            model = AgglomerativeClustering(n_clusters=k, linkage='complete').fit(X).labels_    \n",
    "        elif algorithm == 'cah_average':\n",
    "            if mix:\n",
    "                algorithms['cah_average'] += 1       \n",
    "            model = AgglomerativeClustering(n_clusters=k, linkage='average').fit(X).labels_    \n",
    "        elif algorithm == 'cah_single':\n",
    "            if mix:\n",
    "                algorithms['cah_single'] += 1\n",
    "            model = AgglomerativeClustering(n_clusters=k, linkage='single').fit(X).labels_    \n",
    "        elif algorithm == 'gmm_full':\n",
    "            if mix:\n",
    "                algorithms['gmm_full'] += 1  \n",
    "            model = GaussianMixture(n_components=k, covariance_type='full').fit(X).predict(X)\n",
    "        elif algorithm == 'gmm_tied':\n",
    "            if mix:\n",
    "                algorithms['gmm_tied'] += 1  \n",
    "            model = GaussianMixture(n_components=k, covariance_type='tied').fit(X).predict(X)\n",
    "        elif algorithm == 'gmm_diag':\n",
    "            if mix:\n",
    "                algorithms['gmm_diag'] += 1   \n",
    "            model = GaussianMixture(n_components=k, covariance_type='diag').fit(X).predict(X)\n",
    "        elif algorithm == 'gmm_spherical':\n",
    "            if mix:\n",
    "                algorithms['gmm_spherical'] += 1   \n",
    "            model = GaussianMixture(n_components=k, covariance_type='spherical').fit(X).predict(X)\n",
    "        partition.append(model)\n",
    "    if mix:\n",
    "        member_generation.extend(partition)\n",
    "    else:\n",
    "        return partition"
   ]
  },
  {
   "cell_type": "markdown",
   "metadata": {},
   "source": [
    "### Consensus Function"
   ]
  },
  {
   "cell_type": "code",
   "execution_count": null,
   "metadata": {},
   "outputs": [],
   "source": [
    "def one_hot_encoding(member_generation):\n",
    "    '''\n",
    "    Combine multiple partitions in order to form one\n",
    "    for each partition we represent the membership of individuals in a cluster by a one hot encoding\n",
    "    \n",
    "    member_generation : matrix with all partition\n",
    "    '''\n",
    "    partitions_one_hot=[]\n",
    "    for partition_idx, partition in enumerate(member_generation.T):\n",
    "        nb_individu=len(partition)\n",
    "        nb_cluster=len(np.unique(partition))\n",
    "        one_hot_encoding=np.zeros((nb_individu,nb_cluster))\n",
    "        for individu_idx,individu_affectation_cluster in enumerate(partition):\n",
    "            one_hot_encoding[individu_idx,individu_affectation_cluster]=1\n",
    "        partitions_one_hot.append(one_hot_encoding)\n",
    "\n",
    "    partitions_co_occurence=[partition_one_hot@partition_one_hot.T for partition_one_hot in partitions_one_hot]\n",
    "    nb_partitions=member_generation.shape[1]\n",
    "    return (sum(partitions_co_occurence)/nb_partitions).round(2)"
   ]
  },
  {
   "cell_type": "code",
   "execution_count": null,
   "metadata": {},
   "outputs": [],
   "source": [
    "def consensus_function(member_generation):\n",
    "    '''\n",
    "    Combine multiple partitions in order to form one\n",
    "    \n",
    "    member_generation : matrix with all partition\n",
    "    '''\n",
    "    h, _ = member_generation.shape\n",
    "    co_occurence = np.zeros((h, h))\n",
    "    for i in range(h):\n",
    "        co_occurence[i, :] = (member_generation == member_generation[i, :]).sum(axis=1)/_\n",
    "    return co_occurence\n"
   ]
  },
  {
   "cell_type": "code",
   "execution_count": null,
   "metadata": {},
   "outputs": [],
   "source": [
    "def final_clustering_result(co_occurence, n_clusters):\n",
    "    '''\n",
    "    Returns the labels, using a clustering algorithm (Spectral Clustering) on the co-association matrix\n",
    "    \n",
    "    co_occurence : co-association matrix\n",
    "    n_clusters : number of cluster to search\n",
    "    '''\n",
    "    B = SpectralClustering(n_clusters=n_clusters, random_state=0, affinity=\"precomputed\").fit(co_occurence)  \n",
    "    return B.labels_"
   ]
  },
  {
   "cell_type": "markdown",
   "metadata": {},
   "source": [
    "### Evaluation"
   ]
  },
  {
   "cell_type": "code",
   "execution_count": null,
   "metadata": {},
   "outputs": [],
   "source": [
    "def accuracy(label_real, label_pred):\n",
    "    '''\n",
    "    Accuracy of the method using ARI ans NMI\n",
    "    \n",
    "    label_real: the real label\n",
    "    label_pred: the predicted label\n",
    "    '''\n",
    "    return round(ari(label_real, label_pred),2), round(nmi(label_real, label_pred),2)\n",
    "    "
   ]
  },
  {
   "cell_type": "markdown",
   "metadata": {},
   "source": [
    "### Clustering Ensemble"
   ]
  },
  {
   "cell_type": "code",
   "execution_count": null,
   "metadata": {},
   "outputs": [],
   "source": [
    "def clustering_ensemble(X, algorithm='kmeans', k=7, nb_partition=5, mix=True):\n",
    "    '''\n",
    "    Implementation of the Clustering Ensemble method\n",
    "    \n",
    "    X : dataset\n",
    "    algorithm : the name of the algorithm to use \n",
    "    nb_partition : number of partition to generate\n",
    "    mix : if we want to mix several clustering algorithm\n",
    "    '''\n",
    "    global member_generation\n",
    "    global algorithms\n",
    "    # Clustering Ensemble Algorithm\n",
    "    if mix:\n",
    "        member_generation_function(X, algorithm, nb_partition, mix)\n",
    "        consensus = consensus_function(np.transpose(member_generation))\n",
    "    else:\n",
    "        member_generation_simple = member_generation_function(X, algorithm, nb_partition, mix)\n",
    "        consensus = consensus_function(np.transpose(member_generation_simple))\n",
    "        \n",
    "    label_pred = final_clustering_result(consensus, k) \n",
    "    \n",
    "    # Plot the result\n",
    "    fig = px.scatter(dataset, x=\"A\", y=\"B\", color=label_pred, title='Algorithme : ' + algorithm.upper() + ' - Nb Cluster : ' + str(k) + ' - Nb Partition : ' + str(nb_partition)+ ' - ARI: ' +  str(round(ari(dataset.target, label_pred),2)) + ' - NMI: ' + str(round(nmi(dataset.target, label_pred),2))) \n",
    "    fig.show()\n",
    "    \n",
    "    # Performance of the system\n",
    "    return accuracy(dataset.target, label_pred)"
   ]
  },
  {
   "cell_type": "markdown",
   "metadata": {},
   "source": [
    "### Launch the application"
   ]
  },
  {
   "cell_type": "code",
   "execution_count": null,
   "metadata": {},
   "outputs": [],
   "source": [
    "reset()\n",
    "print(algorithms)"
   ]
  },
  {
   "cell_type": "code",
   "execution_count": null,
   "metadata": {},
   "outputs": [],
   "source": [
    "labels = clustering_ensemble(X,'kmeans',7, 55, False)"
   ]
  },
  {
   "cell_type": "markdown",
   "metadata": {},
   "source": [
    "### Performance Ensemble Clustering Method"
   ]
  },
  {
   "cell_type": "code",
   "execution_count": null,
   "metadata": {},
   "outputs": [],
   "source": [
    "k = 7\n",
    "p = 55\n",
    "# We comment the line 23-24 in order to note display the scatter plot"
   ]
  },
  {
   "cell_type": "code",
   "execution_count": null,
   "metadata": {},
   "outputs": [],
   "source": [
    "#K-Means\n",
    "ariTab = []\n",
    "nmiTab = []\n",
    "for i in tqdm(range(100)):\n",
    "    a, b = clustering_ensemble(X,'kmeans',k, p, False)    \n",
    "    ariTab.append(a)\n",
    "    nmiTab.append(b)\n",
    "print('K-Means')\n",
    "print('ARI: ', np.mean(ariTab).round(2))\n",
    "print('NMI: ', np.mean(nmiTab).round(2))"
   ]
  },
  {
   "cell_type": "code",
   "execution_count": null,
   "metadata": {},
   "outputs": [],
   "source": [
    "#K-Means++\n",
    "ariTab = []\n",
    "nmiTab = []\n",
    "for i in tqdm(range(100)):\n",
    "    a, b = clustering_ensemble(X,'kmeans++',k, p, False)    \n",
    "    ariTab.append(a)\n",
    "    nmiTab.append(b)\n",
    "print('K-Means++')\n",
    "print('ARI: ', np.mean(ariTab).round(2))\n",
    "print('NMI: ', np.mean(nmiTab).round(2))"
   ]
  },
  {
   "cell_type": "code",
   "execution_count": null,
   "metadata": {},
   "outputs": [],
   "source": [
    "#CAH - Ward Linkage\n",
    "ariTab = []\n",
    "nmiTab = []\n",
    "for i in tqdm(range(100)):\n",
    "    a, b = clustering_ensemble(X,'cah_ward',k, p, False)    \n",
    "    ariTab.append(a)\n",
    "    nmiTab.append(b)\n",
    "print('CAH - Ward Linkage')\n",
    "print('ARI: ', np.mean(ariTab).round(2))\n",
    "print('NMI: ', np.mean(nmiTab).round(2))"
   ]
  },
  {
   "cell_type": "code",
   "execution_count": null,
   "metadata": {},
   "outputs": [],
   "source": [
    "#CAH - Complete Linkage\n",
    "ariTab = []\n",
    "nmiTab = []\n",
    "for i in tqdm(range(100)):\n",
    "    a, b = clustering_ensemble(X,'cah_complete',k, p, False)    \n",
    "    ariTab.append(a)\n",
    "    nmiTab.append(b)\n",
    "print('CAH - Complete Linkage')\n",
    "print('ARI: ', np.mean(ariTab).round(2))\n",
    "print('NMI: ', np.mean(nmiTab).round(2))"
   ]
  },
  {
   "cell_type": "code",
   "execution_count": null,
   "metadata": {},
   "outputs": [],
   "source": [
    "#CAH - Average Linkage\n",
    "ariTab = []\n",
    "nmiTab = []\n",
    "for i in tqdm(range(100)):\n",
    "    a, b = clustering_ensemble(X,'cah_average',k, p, False)    \n",
    "    ariTab.append(a)\n",
    "    nmiTab.append(b)\n",
    "print('CAH - Average Linkage')\n",
    "print('ARI: ', np.mean(ariTab).round(2))\n",
    "print('NMI: ', np.mean(nmiTab).round(2))"
   ]
  },
  {
   "cell_type": "code",
   "execution_count": null,
   "metadata": {},
   "outputs": [],
   "source": [
    "#CAH - Single Linkage\n",
    "ariTab = []\n",
    "nmiTab = []\n",
    "for i in tqdm(range(100)):\n",
    "    a, b = clustering_ensemble(X,'cah_single',k, p, False)    \n",
    "    ariTab.append(a)\n",
    "    nmiTab.append(b)\n",
    "print('CAH - Single Linkage')\n",
    "print('ARI: ', np.mean(ariTab).round(2))\n",
    "print('NMI: ', np.mean(nmiTab).round(2))"
   ]
  },
  {
   "cell_type": "code",
   "execution_count": null,
   "metadata": {},
   "outputs": [],
   "source": [
    "#GMM - Full\n",
    "ariTab = []\n",
    "nmiTab = []\n",
    "for i in tqdm(range(100)):\n",
    "    a, b = clustering_ensemble(X,'gmm_full',k, p, False)    \n",
    "    ariTab.append(a)\n",
    "    nmiTab.append(b)\n",
    "print('GMM - Full')\n",
    "print('ARI: ', np.mean(ariTab).round(2))\n",
    "print('NMI: ', np.mean(nmiTab).round(2))"
   ]
  },
  {
   "cell_type": "code",
   "execution_count": null,
   "metadata": {},
   "outputs": [],
   "source": [
    "#GMM - Tied\n",
    "ariTab = []\n",
    "nmiTab = []\n",
    "for i in tqdm(range(100)):\n",
    "    a, b = clustering_ensemble(X,'gmm_tied',k, p, False)    \n",
    "    ariTab.append(a)\n",
    "    nmiTab.append(b)\n",
    "print('GMM - Tied')\n",
    "print('ARI: ', np.mean(ariTab).round(2))\n",
    "print('NMI: ', np.mean(nmiTab).round(2))"
   ]
  },
  {
   "cell_type": "code",
   "execution_count": null,
   "metadata": {},
   "outputs": [],
   "source": [
    "#GMM - Diag\n",
    "ariTab = []\n",
    "nmiTab = []\n",
    "for i in tqdm(range(100)):\n",
    "    a, b = clustering_ensemble(X,'gmm_diag',k, p, False)    \n",
    "    ariTab.append(a)\n",
    "    nmiTab.append(b)\n",
    "print('GMM - Diag')\n",
    "print('ARI: ', np.mean(ariTab).round(2))\n",
    "print('NMI: ', np.mean(nmiTab).round(2))"
   ]
  },
  {
   "cell_type": "code",
   "execution_count": null,
   "metadata": {},
   "outputs": [],
   "source": [
    "#GMM - Spherical\n",
    "ariTab = []\n",
    "nmiTab = []\n",
    "for i in tqdm(range(100)):\n",
    "    a, b = clustering_ensemble(X,'gmm_spherical',k, p, False)    \n",
    "    ariTab.append(a)\n",
    "    nmiTab.append(b)\n",
    "print('GMM - Spherical')\n",
    "print('ARI: ', np.mean(ariTab).round(2))\n",
    "print('NMI: ', np.mean(nmiTab).round(2))"
   ]
  },
  {
   "cell_type": "code",
   "execution_count": null,
   "metadata": {},
   "outputs": [],
   "source": []
  },
  {
   "cell_type": "code",
   "execution_count": null,
   "metadata": {},
   "outputs": [],
   "source": [
    "k = 7\n",
    "p = 55"
   ]
  },
  {
   "cell_type": "code",
   "execution_count": null,
   "metadata": {},
   "outputs": [],
   "source": [
    "# Mix of K-algorithm\n",
    "ariTab = []\n",
    "nmiTab = []\n",
    "reset()\n",
    "for i in tqdm(range(100)):\n",
    "    reset()\n",
    "    a, b= clustering_ensemble(X,'kmeans',k, p, True)    \n",
    "    a, b = clustering_ensemble(X,'kmeans++',k, p, True)    \n",
    "    ariTab.append(a)\n",
    "    nmiTab.append(b)\n",
    "\n",
    "print(np.mean(ariTab))\n",
    "print(np.mean(nmiTab))"
   ]
  },
  {
   "cell_type": "code",
   "execution_count": null,
   "metadata": {},
   "outputs": [],
   "source": [
    "# Mix of CAH method\n",
    "ariTab = []\n",
    "nmiTab = []\n",
    "reset()\n",
    "for i in tqdm(range(100)):\n",
    "    reset()\n",
    "    a, b = clustering_ensemble(X,'cah_ward',k, p, True)    \n",
    "    a, b = clustering_ensemble(X,'cah_complete',k, p, True)    \n",
    "    a, b = clustering_ensemble(X,'cah_average',k, p, True)    \n",
    "    a, b = clustering_ensemble(X,'cah_single',k, p, True)    \n",
    "    ariTab.append(a)\n",
    "    nmiTab.append(b)\n",
    "\n",
    "print(np.mean(ariTab))\n",
    "print(np.mean(nmiTab))"
   ]
  },
  {
   "cell_type": "code",
   "execution_count": null,
   "metadata": {},
   "outputs": [],
   "source": [
    "# Mix of GMM method\n",
    "ariTab = []\n",
    "nmiTab = []\n",
    "reset()\n",
    "for i in tqdm(range(100)):\n",
    "    reset()\n",
    "    a, b = clustering_ensemble(X,'gmm_full',k, p, True)\n",
    "    a, b = clustering_ensemble(X,'gmm_tied',k, p, True)\n",
    "    a, b = clustering_ensemble(X,'gmm_diag',k, p, True)\n",
    "    a, b = clustering_ensemble(X,'gmm_spherical',k, p, True)\n",
    "    ariTab.append(a)\n",
    "    nmiTab.append(b)\n",
    "\n",
    "print(np.mean(ariTab))\n",
    "print(np.mean(nmiTab))"
   ]
  },
  {
   "cell_type": "code",
   "execution_count": null,
   "metadata": {},
   "outputs": [],
   "source": [
    "# Mix of all the clustering algorithm\n",
    "ariTab = []\n",
    "nmiTab = []\n",
    "reset()\n",
    "for i in tqdm(range(100)):\n",
    "    reset()\n",
    "    a, b= clustering_ensemble(X,'kmeans',k, p, True)    \n",
    "    a, b = clustering_ensemble(X,'kmeans++',k, p, True)    \n",
    "    a, b = clustering_ensemble(X,'cah_ward',k, p, True)    \n",
    "    a, b = clustering_ensemble(X,'cah_complete',k, p, True)    \n",
    "    a, b = clustering_ensemble(X,'cah_average',k, p, True)    \n",
    "    a, b = clustering_ensemble(X,'cah_single',k, p, True)    \n",
    "    a, b = clustering_ensemble(X,'gmm_full',k, p, True)\n",
    "    a, b = clustering_ensemble(X,'gmm_tied',k, p, True)\n",
    "    a, b = clustering_ensemble(X,'gmm_diag',k, p, True)\n",
    "    a, b = clustering_ensemble(X,'gmm_spherical',k, p, True)\n",
    "    ariTab.append(a)\n",
    "    nmiTab.append(b)\n",
    "\n",
    "print(np.mean(ariTab))\n",
    "print(np.mean(nmiTab))"
   ]
  },
  {
   "cell_type": "code",
   "execution_count": null,
   "metadata": {},
   "outputs": [],
   "source": []
  }
 ],
 "metadata": {
  "kernelspec": {
   "display_name": "Python 3",
   "language": "python",
   "name": "python3"
  },
  "language_info": {
   "codemirror_mode": {
    "name": "ipython",
    "version": 3
   },
   "file_extension": ".py",
   "mimetype": "text/x-python",
   "name": "python",
   "nbconvert_exporter": "python",
   "pygments_lexer": "ipython3",
   "version": "3.6.9"
  }
 },
 "nbformat": 4,
 "nbformat_minor": 4
}
